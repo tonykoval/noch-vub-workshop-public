{
 "cells": [
  {
   "cell_type": "markdown",
   "metadata": {},
   "source": [
    "<img src=\"data/vub-logo.png\" alt=\"vub-logo\"/>"
   ]
  },
  {
   "cell_type": "code",
   "execution_count": 1,
   "metadata": {},
   "outputs": [],
   "source": [
    "import pandas as pd\n",
    "import geopandas\n",
    "import folium"
   ]
  },
  {
   "cell_type": "markdown",
   "metadata": {},
   "source": [
    "## Načítanie dát"
   ]
  },
  {
   "cell_type": "code",
   "execution_count": 2,
   "metadata": {
    "scrolled": true
   },
   "outputs": [
    {
     "data": {
      "text/html": [
       "<div>\n",
       "<style scoped>\n",
       "    .dataframe tbody tr th:only-of-type {\n",
       "        vertical-align: middle;\n",
       "    }\n",
       "\n",
       "    .dataframe tbody tr th {\n",
       "        vertical-align: top;\n",
       "    }\n",
       "\n",
       "    .dataframe thead th {\n",
       "        text-align: right;\n",
       "    }\n",
       "</style>\n",
       "<table border=\"1\" class=\"dataframe\">\n",
       "  <thead>\n",
       "    <tr style=\"text-align: right;\">\n",
       "      <th></th>\n",
       "      <th>klient</th>\n",
       "      <th>datum</th>\n",
       "      <th>suma</th>\n",
       "      <th>mesto</th>\n",
       "    </tr>\n",
       "  </thead>\n",
       "  <tbody>\n",
       "    <tr>\n",
       "      <td>0</td>\n",
       "      <td>20013726</td>\n",
       "      <td>03JUL2019</td>\n",
       "      <td>2000.00</td>\n",
       "      <td>MARTIN</td>\n",
       "    </tr>\n",
       "    <tr>\n",
       "      <td>1</td>\n",
       "      <td>19920606</td>\n",
       "      <td>03JUL2019</td>\n",
       "      <td>200.00</td>\n",
       "      <td>TRENCIN</td>\n",
       "    </tr>\n",
       "    <tr>\n",
       "      <td>2</td>\n",
       "      <td>20043562</td>\n",
       "      <td>03JUL2019</td>\n",
       "      <td>300.00</td>\n",
       "      <td>MARTIN</td>\n",
       "    </tr>\n",
       "    <tr>\n",
       "      <td>3</td>\n",
       "      <td>19898807</td>\n",
       "      <td>03JUL2019</td>\n",
       "      <td>150.00</td>\n",
       "      <td>NOVE ZAMKY</td>\n",
       "    </tr>\n",
       "    <tr>\n",
       "      <td>4</td>\n",
       "      <td>1465317458</td>\n",
       "      <td>03JUL2019</td>\n",
       "      <td>0.83</td>\n",
       "      <td>KOSICE</td>\n",
       "    </tr>\n",
       "  </tbody>\n",
       "</table>\n",
       "</div>"
      ],
      "text/plain": [
       "       klient      datum     suma       mesto\n",
       "0    20013726  03JUL2019  2000.00      MARTIN\n",
       "1    19920606  03JUL2019   200.00     TRENCIN\n",
       "2    20043562  03JUL2019   300.00      MARTIN\n",
       "3    19898807  03JUL2019   150.00  NOVE ZAMKY\n",
       "4  1465317458  03JUL2019     0.83      KOSICE"
      ]
     },
     "execution_count": 2,
     "metadata": {},
     "output_type": "execute_result"
    }
   ],
   "source": [
    "df = pd.read_csv('data/NOCH_WORKSHOP.csv')\n",
    "df.head()"
   ]
  }
 ],
 "metadata": {
  "kernelspec": {
   "display_name": "Python 3",
   "language": "python",
   "name": "python3"
  },
  "language_info": {
   "codemirror_mode": {
    "name": "ipython",
    "version": 3
   },
   "file_extension": ".py",
   "mimetype": "text/x-python",
   "name": "python",
   "nbconvert_exporter": "python",
   "pygments_lexer": "ipython3",
   "version": "3.7.4"
  }
 },
 "nbformat": 4,
 "nbformat_minor": 4
}
